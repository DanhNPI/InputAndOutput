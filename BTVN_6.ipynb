{
 "cells": [
  {
   "cell_type": "code",
   "execution_count": 11,
   "metadata": {},
   "outputs": [
    {
     "name": "stdout",
     "output_type": "stream",
     "text": [
      "Chuỗi hhhggg không có kí tự nguyên âm\n"
     ]
    }
   ],
   "source": [
    "# Nhập chuỗi\n",
    "num = 0\n",
    "text = input('Nhập chuỗi bạn muốn:')\n",
    "\n",
    "# Nguyên âm\n",
    "\n",
    "nguyenAm = ['u', 'e', 'o', 'a', 'i', 'U', 'E', 'A', 'I', 'O']\n",
    "\n",
    "\n",
    "for i in range (len(text)):\n",
    "    for j in range(len(nguyenAm)):\n",
    "        if text[i] == nguyenAm[j]:\n",
    "            num += 1\n",
    "\n",
    "if num == 0:\n",
    "    print ('Chuỗi {text} không có kí tự nguyên âm'.format(text = text))\n",
    "else:\n",
    "    print ('Chuỗi {text} có kí tự nguyên âm'.format(text = text))"
   ]
  }
 ],
 "metadata": {
  "interpreter": {
   "hash": "b3ba2566441a7c06988d0923437866b63cedc61552a5af99d1f4fb67d367b25f"
  },
  "kernelspec": {
   "display_name": "Python 3.8.8 64-bit",
   "language": "python",
   "name": "python3"
  },
  "language_info": {
   "codemirror_mode": {
    "name": "ipython",
    "version": 3
   },
   "file_extension": ".py",
   "mimetype": "text/x-python",
   "name": "python",
   "nbconvert_exporter": "python",
   "pygments_lexer": "ipython3",
   "version": "3.10.2"
  },
  "orig_nbformat": 4
 },
 "nbformat": 4,
 "nbformat_minor": 2
}
